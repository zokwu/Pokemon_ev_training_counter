{
 "cells": [
  {
   "cell_type": "code",
   "execution_count": 2,
   "metadata": {},
   "outputs": [],
   "source": [
    "import pandas as pd\n",
    "import numpy as np"
   ]
  },
  {
   "cell_type": "code",
   "execution_count": 72,
   "metadata": {},
   "outputs": [],
   "source": [
    "class ev_trainer():\n",
    "    def __init__(self, name, item, pkrus=True):\n",
    "        '''Initial class ev_trainer:\n",
    "        name: pokemon's name\n",
    "        item: pokemon's ev traning item, take effect if is in ['hp', 'atk', 'def', 'spa', 'spd', 'spe']\n",
    "        pkrus: Whether pokemon have pkrus activate or not, default is True\n",
    "        ev_spread: pandas series to store ev values'''\n",
    "        \n",
    "        self.name = name\n",
    "        self.item = item\n",
    "        self.pkrus = pkrus\n",
    "        self.ev_spread = pd.Series(index=['hp', 'atk', 'def', 'spa', 'spd', 'spe'], data=[0]*6)\n",
    "        self.trained = []\n",
    "        self.full_ev = False\n",
    "        \n",
    "    def status(self):\n",
    "        '''Function to print pokemon status include name, item, pkrus, current ev'''\n",
    "        \n",
    "        print('********************************************')\n",
    "        print('name:', self.name)\n",
    "        print('item:', self.item)\n",
    "        print('pkrus:', self.pkrus)\n",
    "        print('current ev: (Trained {} times)'.format(len(self.trained)))\n",
    "        print(self.ev_spread)\n",
    "        print('Total:', np.sum(self.ev_spread))\n",
    "        print('********************************************')\n",
    "    \n",
    "    def train(self, op, base=2, pr=True):\n",
    "        '''Function used to train pokemon, input:\n",
    "        op: opponent, currently only support ev yield of the opponent\n",
    "            have to be within ['hp', 'atk', 'def', 'spa', 'spd', 'spe']\n",
    "        base: base point yield by defeating that pokemon, default = 2\n",
    "        pr: print status or not, default=True'''\n",
    "        \n",
    "        # Check if ev is full or not\n",
    "        if not self.full_ev:\n",
    "            if self.pkrus == True:\n",
    "                pkr = 2\n",
    "            else:\n",
    "                pkr = 1\n",
    "        \n",
    "            self.update_ev(op, base*pkr)\n",
    "            \n",
    "            if not self.full_ev:\n",
    "                if self.item in ['hp', 'atk', 'def', 'spa', 'spd', 'spe']:\n",
    "                    self.update_ev(self.item, 8*pkr)\n",
    "        \n",
    "        self.trained.append(op)\n",
    "        \n",
    "        if pr:\n",
    "            print('{} finished one {} training with base {} ev'.format(self.name, op, base))\n",
    "            print('current ev: (Trained {} times)'.format(len(self.trained)))\n",
    "            print(self.ev_spread)\n",
    "            print('\\n')\n",
    "    \n",
    "    \n",
    "    def update_ev(self, ev, value):\n",
    "        '''Function to update value amount of ev to ev stats, ev have to be in ['hp', 'atk', 'def', 'spa', 'spd', 'spe']'''\n",
    "        \n",
    "        total = np.sum(self.ev_spread)\n",
    "        pr_tot = total + value\n",
    "        pr_ev = self.ev_spread[ev] + value\n",
    "        if pr_tot <= 510 and pr_ev <= 252:\n",
    "            self.ev_spread[ev] += value\n",
    "        else:\n",
    "            self.ev_spread[ev] += np.min([510 - total, 252 - self.ev_spread[ev]])\n",
    "        \n",
    "        if np.sum(self.ev_spread) >= 510:\n",
    "            self.full_ev = True\n",
    "        \n",
    "    def clear(self, how='all', amount=1, value = 10):\n",
    "        '''Clear pokemon's ev, take input:\n",
    "        how: how to delete, can be 'all' or specific stats in ['hp', 'atk', 'def', 'spa', 'spd', 'spe']\n",
    "        amount: if how is one specfic stats, assuming you are using berries, select amount of berries your pokemon is eating\n",
    "        value: value of ev reduced per berry, default is 10'''\n",
    "        \n",
    "        if how == 'all':\n",
    "            self.ev_spread = pd.Series(index=['hp', 'atk', 'def', 'spa', 'spd', 'spe'], data=[0]*6)\n",
    "        elif how in self.ev_spread.index:\n",
    "            self.ev_spread[how] -= amount * value\n",
    "            if self.ev_spread[how] <= 0:\n",
    "                self.ev_spread[how] = 0\n",
    "            \n",
    "    def change_item(self, item):\n",
    "        '''function used to change item'''\n",
    "        self.item = item\n",
    "    \n",
    "    def cont_train(self, opl, base=2):\n",
    "        ''' For continue training, support same base point only, default = 2\n",
    "        input is a list of traning opponent for pokemon to train automatically one by one, print status after the last opponent\n",
    "        from opponent list opl'''\n",
    "        \n",
    "        for i, op in enumerate(opl):\n",
    "            pr = False\n",
    "            if i == len(opl)-1:\n",
    "                pr = True\n",
    "            self.train(op, base, pr=pr)\n",
    "            \n",
    "    def start_training(self):\n",
    "        '''Interactive function to help fast training versus various opponent, \n",
    "        only support base point = 2 opponent for fast finishing\n",
    "        IMO best used when trying to quickly max out 2 stats within same range (e.g. Route 7 for atk and spd)'''\n",
    "        \n",
    "        print('You entered continuous training mode with {}'.format(self.name))\n",
    "        comd = 'a'\n",
    "        while comd != 'q':\n",
    "            self.status()\n",
    "            print('Pick your opponent (choose number with keyboard):')\n",
    "            print('1. Hp   2. Atk   3. Def   4. Spa   5. Spd   6. Spe   7. Change item')\n",
    "            comd = input()\n",
    "            if comd == '7':\n",
    "                self.item = input('Enter training item or None: ')\n",
    "            cmd_dict = {'1': 'hp', '2': 'atk', '3': 'def', '4': 'spa', '5': 'spd', '6': 'spe'}\n",
    "            if comd in cmd_dict.keys():\n",
    "                self.train(cmd_dict[comd], pr=False)"
   ]
  },
  {
   "cell_type": "markdown",
   "metadata": {},
   "source": [
    "Below is example for training Kubfu"
   ]
  },
  {
   "cell_type": "code",
   "execution_count": 73,
   "metadata": {},
   "outputs": [],
   "source": [
    "Kubfu = ev_trainer('Kubfu', 'spe')"
   ]
  },
  {
   "cell_type": "code",
   "execution_count": 56,
   "metadata": {},
   "outputs": [
    {
     "name": "stdout",
     "output_type": "stream",
     "text": [
      "********************************************\n",
      "name: Kubfu\n",
      "item: spe\n",
      "pkrus: True\n",
      "current ev: (Trained 0 times)\n",
      "hp     0\n",
      "atk    0\n",
      "def    0\n",
      "spa    0\n",
      "spd    0\n",
      "spe    0\n",
      "dtype: int64\n",
      "Total: 0\n",
      "********************************************\n"
     ]
    }
   ],
   "source": [
    "Kubfu.status()"
   ]
  },
  {
   "cell_type": "code",
   "execution_count": 57,
   "metadata": {},
   "outputs": [
    {
     "name": "stdout",
     "output_type": "stream",
     "text": [
      "Kubfu finished one spe training with base 2 ev\n",
      "current ev: (Trained 6 times)\n",
      "hp       0\n",
      "atk     16\n",
      "def      0\n",
      "spa      0\n",
      "spd      0\n",
      "spe    104\n",
      "dtype: int64\n",
      "\n",
      "\n"
     ]
    }
   ],
   "source": [
    "Kubfu.cont_train(['atk', 'spe', 'atk', 'atk', 'atk', 'spe'])"
   ]
  },
  {
   "cell_type": "code",
   "execution_count": 58,
   "metadata": {},
   "outputs": [
    {
     "name": "stdout",
     "output_type": "stream",
     "text": [
      "Kubfu finished one spe training with base 2 ev\n",
      "current ev: (Trained 7 times)\n",
      "hp       0\n",
      "atk     16\n",
      "def      0\n",
      "spa      0\n",
      "spd      0\n",
      "spe    124\n",
      "dtype: int64\n",
      "\n",
      "\n"
     ]
    }
   ],
   "source": [
    "Kubfu.train('spe')"
   ]
  },
  {
   "cell_type": "code",
   "execution_count": 59,
   "metadata": {},
   "outputs": [
    {
     "name": "stdout",
     "output_type": "stream",
     "text": [
      "Kubfu finished one spe training with base 2 ev\n",
      "current ev: (Trained 9 times)\n",
      "hp       0\n",
      "atk     16\n",
      "def      0\n",
      "spa      0\n",
      "spd      0\n",
      "spe    164\n",
      "dtype: int64\n",
      "\n",
      "\n"
     ]
    }
   ],
   "source": [
    "Kubfu.cont_train(['spe']*2)"
   ]
  },
  {
   "cell_type": "code",
   "execution_count": 60,
   "metadata": {},
   "outputs": [
    {
     "name": "stdout",
     "output_type": "stream",
     "text": [
      "Kubfu finished one spe training with base 2 ev\n",
      "current ev: (Trained 10 times)\n",
      "hp       0\n",
      "atk     16\n",
      "def      0\n",
      "spa      0\n",
      "spd      0\n",
      "spe    184\n",
      "dtype: int64\n",
      "\n",
      "\n"
     ]
    }
   ],
   "source": [
    "Kubfu.train('spe')"
   ]
  },
  {
   "cell_type": "code",
   "execution_count": 61,
   "metadata": {},
   "outputs": [],
   "source": [
    "Kubfu.change_item('atk')"
   ]
  },
  {
   "cell_type": "code",
   "execution_count": 62,
   "metadata": {},
   "outputs": [
    {
     "name": "stdout",
     "output_type": "stream",
     "text": [
      "Kubfu finished one spe training with base 2 ev\n",
      "current ev: (Trained 11 times)\n",
      "hp       0\n",
      "atk     32\n",
      "def      0\n",
      "spa      0\n",
      "spd      0\n",
      "spe    188\n",
      "dtype: int64\n",
      "\n",
      "\n"
     ]
    }
   ],
   "source": [
    "Kubfu.train('spe')"
   ]
  },
  {
   "cell_type": "code",
   "execution_count": 63,
   "metadata": {},
   "outputs": [
    {
     "name": "stdout",
     "output_type": "stream",
     "text": [
      "Kubfu finished one spe training with base 2 ev\n",
      "current ev: (Trained 12 times)\n",
      "hp       0\n",
      "atk     48\n",
      "def      0\n",
      "spa      0\n",
      "spd      0\n",
      "spe    192\n",
      "dtype: int64\n",
      "\n",
      "\n"
     ]
    }
   ],
   "source": [
    "Kubfu.train('spe')"
   ]
  },
  {
   "cell_type": "code",
   "execution_count": 64,
   "metadata": {},
   "outputs": [
    {
     "name": "stdout",
     "output_type": "stream",
     "text": [
      "Kubfu finished one spe training with base 2 ev\n",
      "current ev: (Trained 13 times)\n",
      "hp       0\n",
      "atk     64\n",
      "def      0\n",
      "spa      0\n",
      "spd      0\n",
      "spe    196\n",
      "dtype: int64\n",
      "\n",
      "\n"
     ]
    }
   ],
   "source": [
    "Kubfu.train('spe')"
   ]
  },
  {
   "cell_type": "code",
   "execution_count": 65,
   "metadata": {},
   "outputs": [
    {
     "name": "stdout",
     "output_type": "stream",
     "text": [
      "Kubfu finished one spe training with base 2 ev\n",
      "current ev: (Trained 14 times)\n",
      "hp       0\n",
      "atk     80\n",
      "def      0\n",
      "spa      0\n",
      "spd      0\n",
      "spe    200\n",
      "dtype: int64\n",
      "\n",
      "\n"
     ]
    }
   ],
   "source": [
    "Kubfu.train('spe')"
   ]
  },
  {
   "cell_type": "code",
   "execution_count": 66,
   "metadata": {},
   "outputs": [
    {
     "name": "stdout",
     "output_type": "stream",
     "text": [
      "Kubfu finished one atk training with base 2 ev\n",
      "current ev: (Trained 15 times)\n",
      "hp       0\n",
      "atk    100\n",
      "def      0\n",
      "spa      0\n",
      "spd      0\n",
      "spe    200\n",
      "dtype: int64\n",
      "\n",
      "\n"
     ]
    }
   ],
   "source": [
    "Kubfu.train('atk')"
   ]
  },
  {
   "cell_type": "code",
   "execution_count": 67,
   "metadata": {},
   "outputs": [
    {
     "name": "stdout",
     "output_type": "stream",
     "text": [
      "Kubfu finished one atk training with base 2 ev\n",
      "current ev: (Trained 16 times)\n",
      "hp       0\n",
      "atk    120\n",
      "def      0\n",
      "spa      0\n",
      "spd      0\n",
      "spe    200\n",
      "dtype: int64\n",
      "\n",
      "\n"
     ]
    }
   ],
   "source": [
    "Kubfu.train('atk')"
   ]
  },
  {
   "cell_type": "code",
   "execution_count": 68,
   "metadata": {},
   "outputs": [
    {
     "name": "stdout",
     "output_type": "stream",
     "text": [
      "Kubfu finished one spe training with base 2 ev\n",
      "current ev: (Trained 17 times)\n",
      "hp       0\n",
      "atk    136\n",
      "def      0\n",
      "spa      0\n",
      "spd      0\n",
      "spe    204\n",
      "dtype: int64\n",
      "\n",
      "\n"
     ]
    }
   ],
   "source": [
    "Kubfu.train('spe')"
   ]
  },
  {
   "cell_type": "code",
   "execution_count": 69,
   "metadata": {},
   "outputs": [
    {
     "name": "stdout",
     "output_type": "stream",
     "text": [
      "Kubfu finished one spe training with base 2 ev\n",
      "current ev: (Trained 18 times)\n",
      "hp       0\n",
      "atk    152\n",
      "def      0\n",
      "spa      0\n",
      "spd      0\n",
      "spe    208\n",
      "dtype: int64\n",
      "\n",
      "\n"
     ]
    }
   ],
   "source": [
    "Kubfu.train('spe')"
   ]
  },
  {
   "cell_type": "code",
   "execution_count": 70,
   "metadata": {},
   "outputs": [
    {
     "name": "stdout",
     "output_type": "stream",
     "text": [
      "********************************************\n",
      "name: Kubfu\n",
      "item: atk\n",
      "pkrus: True\n",
      "current ev: (Trained 18 times)\n",
      "hp       0\n",
      "atk    152\n",
      "def      0\n",
      "spa      0\n",
      "spd      0\n",
      "spe    208\n",
      "dtype: int64\n",
      "Total: 360\n",
      "********************************************\n"
     ]
    }
   ],
   "source": [
    "Kubfu.status()"
   ]
  },
  {
   "cell_type": "code",
   "execution_count": 71,
   "metadata": {},
   "outputs": [
    {
     "name": "stdout",
     "output_type": "stream",
     "text": [
      "You entered continuous training mode with Kubfu\n",
      "********************************************\n",
      "name: Kubfu\n",
      "item: atk\n",
      "pkrus: True\n",
      "current ev: (Trained 18 times)\n",
      "hp       0\n",
      "atk    152\n",
      "def      0\n",
      "spa      0\n",
      "spd      0\n",
      "spe    208\n",
      "dtype: int64\n",
      "Total: 360\n",
      "********************************************\n",
      "Pick your opponent (choose number with keyboard):\n",
      "1. Hp   2. Atk   3. Def   4. Spa   5. Spd   6. Spe   7. Change item\n",
      "6\n",
      "********************************************\n",
      "name: Kubfu\n",
      "item: atk\n",
      "pkrus: True\n",
      "current ev: (Trained 19 times)\n",
      "hp       0\n",
      "atk    168\n",
      "def      0\n",
      "spa      0\n",
      "spd      0\n",
      "spe    212\n",
      "dtype: int64\n",
      "Total: 380\n",
      "********************************************\n",
      "Pick your opponent (choose number with keyboard):\n",
      "1. Hp   2. Atk   3. Def   4. Spa   5. Spd   6. Spe   7. Change item\n",
      "2\n",
      "********************************************\n",
      "name: Kubfu\n",
      "item: atk\n",
      "pkrus: True\n",
      "current ev: (Trained 20 times)\n",
      "hp       0\n",
      "atk    188\n",
      "def      0\n",
      "spa      0\n",
      "spd      0\n",
      "spe    212\n",
      "dtype: int64\n",
      "Total: 400\n",
      "********************************************\n",
      "Pick your opponent (choose number with keyboard):\n",
      "1. Hp   2. Atk   3. Def   4. Spa   5. Spd   6. Spe   7. Change item\n",
      "6\n",
      "********************************************\n",
      "name: Kubfu\n",
      "item: atk\n",
      "pkrus: True\n",
      "current ev: (Trained 21 times)\n",
      "hp       0\n",
      "atk    204\n",
      "def      0\n",
      "spa      0\n",
      "spd      0\n",
      "spe    216\n",
      "dtype: int64\n",
      "Total: 420\n",
      "********************************************\n",
      "Pick your opponent (choose number with keyboard):\n",
      "1. Hp   2. Atk   3. Def   4. Spa   5. Spd   6. Spe   7. Change item\n",
      "2\n",
      "********************************************\n",
      "name: Kubfu\n",
      "item: atk\n",
      "pkrus: True\n",
      "current ev: (Trained 22 times)\n",
      "hp       0\n",
      "atk    224\n",
      "def      0\n",
      "spa      0\n",
      "spd      0\n",
      "spe    216\n",
      "dtype: int64\n",
      "Total: 440\n",
      "********************************************\n",
      "Pick your opponent (choose number with keyboard):\n",
      "1. Hp   2. Atk   3. Def   4. Spa   5. Spd   6. Spe   7. Change item\n",
      "2\n",
      "********************************************\n",
      "name: Kubfu\n",
      "item: atk\n",
      "pkrus: True\n",
      "current ev: (Trained 23 times)\n",
      "hp       0\n",
      "atk    244\n",
      "def      0\n",
      "spa      0\n",
      "spd      0\n",
      "spe    216\n",
      "dtype: int64\n",
      "Total: 460\n",
      "********************************************\n",
      "Pick your opponent (choose number with keyboard):\n",
      "1. Hp   2. Atk   3. Def   4. Spa   5. Spd   6. Spe   7. Change item\n",
      "6\n",
      "********************************************\n",
      "name: Kubfu\n",
      "item: atk\n",
      "pkrus: True\n",
      "current ev: (Trained 24 times)\n",
      "hp       0\n",
      "atk    252\n",
      "def      0\n",
      "spa      0\n",
      "spd      0\n",
      "spe    220\n",
      "dtype: int64\n",
      "Total: 472\n",
      "********************************************\n",
      "Pick your opponent (choose number with keyboard):\n",
      "1. Hp   2. Atk   3. Def   4. Spa   5. Spd   6. Spe   7. Change item\n",
      "7\n",
      "Enter training item or None: spe\n",
      "********************************************\n",
      "name: Kubfu\n",
      "item: spe\n",
      "pkrus: True\n",
      "current ev: (Trained 24 times)\n",
      "hp       0\n",
      "atk    252\n",
      "def      0\n",
      "spa      0\n",
      "spd      0\n",
      "spe    220\n",
      "dtype: int64\n",
      "Total: 472\n",
      "********************************************\n",
      "Pick your opponent (choose number with keyboard):\n",
      "1. Hp   2. Atk   3. Def   4. Spa   5. Spd   6. Spe   7. Change item\n",
      "2\n",
      "********************************************\n",
      "name: Kubfu\n",
      "item: spe\n",
      "pkrus: True\n",
      "current ev: (Trained 25 times)\n",
      "hp       0\n",
      "atk    252\n",
      "def      0\n",
      "spa      0\n",
      "spd      0\n",
      "spe    236\n",
      "dtype: int64\n",
      "Total: 488\n",
      "********************************************\n",
      "Pick your opponent (choose number with keyboard):\n",
      "1. Hp   2. Atk   3. Def   4. Spa   5. Spd   6. Spe   7. Change item\n",
      "6\n",
      "********************************************\n",
      "name: Kubfu\n",
      "item: spe\n",
      "pkrus: True\n",
      "current ev: (Trained 26 times)\n",
      "hp       0\n",
      "atk    252\n",
      "def      0\n",
      "spa      0\n",
      "spd      0\n",
      "spe    252\n",
      "dtype: int64\n",
      "Total: 504\n",
      "********************************************\n",
      "Pick your opponent (choose number with keyboard):\n",
      "1. Hp   2. Atk   3. Def   4. Spa   5. Spd   6. Spe   7. Change item\n",
      "1\n",
      "********************************************\n",
      "name: Kubfu\n",
      "item: spe\n",
      "pkrus: True\n",
      "current ev: (Trained 27 times)\n",
      "hp       4\n",
      "atk    252\n",
      "def      0\n",
      "spa      0\n",
      "spd      0\n",
      "spe    252\n",
      "dtype: int64\n",
      "Total: 508\n",
      "********************************************\n",
      "Pick your opponent (choose number with keyboard):\n",
      "1. Hp   2. Atk   3. Def   4. Spa   5. Spd   6. Spe   7. Change item\n",
      "1\n",
      "********************************************\n",
      "name: Kubfu\n",
      "item: spe\n",
      "pkrus: True\n",
      "current ev: (Trained 28 times)\n",
      "hp       6\n",
      "atk    252\n",
      "def      0\n",
      "spa      0\n",
      "spd      0\n",
      "spe    252\n",
      "dtype: int64\n",
      "Total: 510\n",
      "********************************************\n",
      "Pick your opponent (choose number with keyboard):\n",
      "1. Hp   2. Atk   3. Def   4. Spa   5. Spd   6. Spe   7. Change item\n",
      "q\n"
     ]
    }
   ],
   "source": [
    "Kubfu.start_training()"
   ]
  }
 ],
 "metadata": {
  "kernelspec": {
   "display_name": "Python 3",
   "language": "python",
   "name": "python3"
  }
 },
 "nbformat": 4,
 "nbformat_minor": 4
}
